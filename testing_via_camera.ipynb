{
 "cells": [
  {
   "cell_type": "code",
   "execution_count": 1,
   "metadata": {},
   "outputs": [],
   "source": [
    "from tensorflow.keras.applications.mobilenet_v2 import preprocess_input\n",
    "from tensorflow.keras.preprocessing.image import img_to_array\n",
    "from tensorflow.keras.models import load_model\n",
    "import numpy as np\n",
    "import cv2\n",
    "import os"
   ]
  },
  {
   "cell_type": "code",
   "execution_count": 2,
   "metadata": {},
   "outputs": [],
   "source": [
    "# Importing face detectors\n",
    "protoPath = os.path.sep.join([r'C:\\Users\\Ritika Singh\\Desktop\\Corona Virus Mask Detection','deploys.prototxt'])\n",
    "weightsPath = os.path.sep.join([r'C:\\Users\\Ritika Singh\\Desktop\\Corona Virus Mask Detection','res10_300x300_ssd_iter_140000.caffemodel'])\n"
   ]
  },
  {
   "cell_type": "code",
   "execution_count": 3,
   "metadata": {},
   "outputs": [],
   "source": [
    "net = cv2.dnn.readNet(protoPath,weightsPath)"
   ]
  },
  {
   "cell_type": "code",
   "execution_count": 4,
   "metadata": {},
   "outputs": [
    {
     "data": {
      "text/plain": [
       "<dnn_Net 00000162E40F7B30>"
      ]
     },
     "execution_count": 4,
     "metadata": {},
     "output_type": "execute_result"
    }
   ],
   "source": [
    "net"
   ]
  },
  {
   "cell_type": "code",
   "execution_count": 5,
   "metadata": {},
   "outputs": [],
   "source": [
    "model = load_model(r'C:\\Users\\Ritika Singh\\Desktop\\Corona Virus Mask Detection\\my_weights.h5')"
   ]
  },
  {
   "cell_type": "code",
   "execution_count": 17,
   "metadata": {},
   "outputs": [
    {
     "data": {
      "text/plain": [
       "array([[[166, 171, 180],\n",
       "        [166, 171, 180],\n",
       "        [166, 171, 180],\n",
       "        ...,\n",
       "        [193, 192, 194],\n",
       "        [194, 193, 195],\n",
       "        [194, 193, 195]],\n",
       "\n",
       "       [[167, 172, 181],\n",
       "        [167, 172, 181],\n",
       "        [167, 172, 181],\n",
       "        ...,\n",
       "        [191, 190, 192],\n",
       "        [192, 191, 193],\n",
       "        [193, 192, 194]],\n",
       "\n",
       "       [[167, 172, 181],\n",
       "        [167, 172, 181],\n",
       "        [167, 172, 181],\n",
       "        ...,\n",
       "        [192, 191, 193],\n",
       "        [193, 192, 194],\n",
       "        [194, 193, 195]],\n",
       "\n",
       "       ...,\n",
       "\n",
       "       [[228, 228, 228],\n",
       "        [223, 223, 223],\n",
       "        [222, 222, 222],\n",
       "        ...,\n",
       "        [219, 219, 219],\n",
       "        [219, 219, 219],\n",
       "        [219, 219, 219]],\n",
       "\n",
       "       [[217, 217, 217],\n",
       "        [229, 229, 229],\n",
       "        [226, 226, 226],\n",
       "        ...,\n",
       "        [216, 216, 216],\n",
       "        [216, 216, 216],\n",
       "        [217, 217, 217]],\n",
       "\n",
       "       [[217, 217, 217],\n",
       "        [229, 229, 229],\n",
       "        [226, 226, 226],\n",
       "        ...,\n",
       "        [216, 216, 216],\n",
       "        [216, 216, 216],\n",
       "        [217, 217, 217]]], dtype=uint8)"
      ]
     },
     "execution_count": 17,
     "metadata": {},
     "output_type": "execute_result"
    }
   ],
   "source": [
    "image = cv2.imread(r'C:\\Users\\Ritika Singh\\Desktop\\Corona Virus Mask Detection\\demo03.jpg')# takes an image and converts into array\n",
    "image"
   ]
  },
  {
   "cell_type": "code",
   "execution_count": 18,
   "metadata": {},
   "outputs": [
    {
     "data": {
      "text/plain": [
       "(650, 797, 3)"
      ]
     },
     "execution_count": 18,
     "metadata": {},
     "output_type": "execute_result"
    }
   ],
   "source": [
    "image.shape"
   ]
  },
  {
   "cell_type": "code",
   "execution_count": 19,
   "metadata": {},
   "outputs": [],
   "source": [
    "(h,w)=image.shape[:2]# taking the height and width"
   ]
  },
  {
   "cell_type": "code",
   "execution_count": 20,
   "metadata": {},
   "outputs": [
    {
     "data": {
      "text/plain": [
       "(650, 797)"
      ]
     },
     "execution_count": 20,
     "metadata": {},
     "output_type": "execute_result"
    }
   ],
   "source": [
    "(h,w)"
   ]
  },
  {
   "cell_type": "code",
   "execution_count": 21,
   "metadata": {},
   "outputs": [],
   "source": [
    "blob = cv2.dnn.blobFromImage(image, 1.0,(300,300),(104.0,177.0,123.0))# resize the image (RGB only)"
   ]
  },
  {
   "cell_type": "code",
   "execution_count": 22,
   "metadata": {},
   "outputs": [
    {
     "data": {
      "text/plain": [
       "array([[[[ 62.,  62.,  62., ...,  89.,  87.,  89.],\n",
       "         [ 64.,  64.,  65., ...,  89.,  90.,  92.],\n",
       "         [ 62.,  64.,  65., ...,  89.,  89.,  90.],\n",
       "         ...,\n",
       "         [121., 113., 143., ..., 115., 115., 115.],\n",
       "         [122., 120., 120., ..., 115., 115., 115.],\n",
       "         [123., 118., 123., ..., 113., 115., 112.]],\n",
       "\n",
       "        [[ -6.,  -6.,  -6., ...,  15.,  13.,  15.],\n",
       "         [ -4.,  -4.,  -3., ...,  15.,  16.,  18.],\n",
       "         [ -6.,  -5.,  -3., ...,  15.,  15.,  16.],\n",
       "         ...,\n",
       "         [ 48.,  40.,  70., ...,  42.,  42.,  42.],\n",
       "         [ 49.,  47.,  47., ...,  42.,  42.,  42.],\n",
       "         [ 50.,  45.,  50., ...,  40.,  42.,  39.]],\n",
       "\n",
       "        [[ 57.,  57.,  57., ...,  71.,  68.,  71.],\n",
       "         [ 59.,  59.,  60., ...,  71.,  72.,  74.],\n",
       "         [ 57.,  58.,  60., ...,  71.,  71.,  72.],\n",
       "         ...,\n",
       "         [102.,  94., 124., ...,  96.,  96.,  96.],\n",
       "         [103., 101., 101., ...,  96.,  96.,  96.],\n",
       "         [104.,  99., 104., ...,  94.,  96.,  93.]]]], dtype=float32)"
      ]
     },
     "execution_count": 22,
     "metadata": {},
     "output_type": "execute_result"
    }
   ],
   "source": [
    "blob"
   ]
  },
  {
   "cell_type": "code",
   "execution_count": 23,
   "metadata": {},
   "outputs": [
    {
     "data": {
      "text/plain": [
       "(1, 3, 300, 300)"
      ]
     },
     "execution_count": 23,
     "metadata": {},
     "output_type": "execute_result"
    }
   ],
   "source": [
    "blob.shape"
   ]
  },
  {
   "cell_type": "code",
   "execution_count": 24,
   "metadata": {},
   "outputs": [],
   "source": [
    "net.setInput(blob)  \n",
    "detections = net.forward()# dtetcting the face"
   ]
  },
  {
   "cell_type": "code",
   "execution_count": 25,
   "metadata": {},
   "outputs": [
    {
     "data": {
      "text/plain": [
       "array([[[[0.        , 1.        , 0.9999702 , ..., 0.26279536,\n",
       "          0.72847646, 0.82057536],\n",
       "         [0.        , 1.        , 0.11575052, ..., 4.010171  ,\n",
       "          0.8216634 , 4.987138  ],\n",
       "         [0.        , 1.        , 0.11499286, ..., 4.007151  ,\n",
       "          4.834893  , 4.9860654 ],\n",
       "         ...,\n",
       "         [0.        , 0.        , 0.        , ..., 0.        ,\n",
       "          0.        , 0.        ],\n",
       "         [0.        , 0.        , 0.        , ..., 0.        ,\n",
       "          0.        , 0.        ],\n",
       "         [0.        , 0.        , 0.        , ..., 0.        ,\n",
       "          0.        , 0.        ]]]], dtype=float32)"
      ]
     },
     "execution_count": 25,
     "metadata": {},
     "output_type": "execute_result"
    }
   ],
   "source": [
    "detections"
   ]
  },
  {
   "cell_type": "code",
   "execution_count": 26,
   "metadata": {},
   "outputs": [
    {
     "data": {
      "text/plain": [
       "(1, 1, 200, 7)"
      ]
     },
     "execution_count": 26,
     "metadata": {},
     "output_type": "execute_result"
    }
   ],
   "source": [
    "detections.shape"
   ]
  },
  {
   "cell_type": "code",
   "execution_count": 28,
   "metadata": {},
   "outputs": [],
   "source": [
    "for i in range(0,detections.shape[2]):\n",
    "    confidence = detections[0 ,0 ,i ,2]\n",
    "#     print(\"confidence: \" ,confidence)\n",
    "    if confidence> 0.5:\n",
    "        # getting the x and y coordinates \n",
    "        box = detections[0,0,i,3:7]*np.array([w,h,w,h])\n",
    "        (startx , starty , endx , endy) = box.astype('int')\n",
    "        (startx , starty)=(max(0 , startx) , max(0 ,starty))\n",
    "        (endx , endy) = (min(w-1, endx) , min(h-1,endy))\n",
    "        \n",
    "        #Extract the face ROI , convert it from BRG to RGB channel , resize it to (224x224) and preprocess it\n",
    "        face = image[starty:endy , startx:endx]\n",
    "        face = cv2.cvtColor(face , cv2.COLOR_BGR2RGB)\n",
    "        face= cv2.resize(face,(224,224))\n",
    "        face = img_to_array(face)\n",
    "        face = preprocess_input(face)\n",
    "        face = np.expand_dims(face, axis = 0)\n",
    "        \n",
    "        (mask, without_mask) = model.predict(face)[0]# Display the first result that we get\n",
    "        #determine the class label and color we will use to draw the bounding box and text\n",
    "        label = \"Mask\" if mask>without_mask else \"No Mask\"\n",
    "        color = (0,255,0) if label == 'Mask' else (0,0,255)\n",
    "        #Including the probability in label\n",
    "\n",
    "        label =\"{} : {:.2f}%\".format(label , max(mask ,without_mask)*100)\n",
    "        \n",
    "        # Display the label and bounding boxes\n",
    "        \n",
    "        cv2.putText(image, label ,(startx ,starty-10) , cv2.FONT_HERSHEY_SIMPLEX , 0.45 , color,2)# diplay the text below\n",
    "        cv2.rectangle(image ,(startx ,starty),(endx, endy) , color , 2)\n",
    "\n",
    "cv2.imshow(\"Output \" , image)\n",
    "cv2.waitKey(0)\n",
    "cv2.destroyAllWindows()\n"
   ]
  },
  {
   "cell_type": "code",
   "execution_count": 29,
   "metadata": {},
   "outputs": [],
   "source": []
  },
  {
   "cell_type": "code",
   "execution_count": null,
   "metadata": {},
   "outputs": [],
   "source": []
  }
 ],
 "metadata": {
  "kernelspec": {
   "display_name": "Python 3",
   "language": "python",
   "name": "python3"
  },
  "language_info": {
   "codemirror_mode": {
    "name": "ipython",
    "version": 3
   },
   "file_extension": ".py",
   "mimetype": "text/x-python",
   "name": "python",
   "nbconvert_exporter": "python",
   "pygments_lexer": "ipython3",
   "version": "3.7.6"
  }
 },
 "nbformat": 4,
 "nbformat_minor": 4
}
